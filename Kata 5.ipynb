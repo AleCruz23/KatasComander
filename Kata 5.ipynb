{
 "cells": [
  {
   "cell_type": "code",
   "execution_count": null,
   "metadata": {},
   "outputs": [],
   "source": []
  },
  {
   "cell_type": "markdown",
   "metadata": {},
   "source": [
    "Ejercicio1 - Utilizar operadores aritméticos"
   ]
  },
  {
   "cell_type": "code",
   "execution_count": 4,
   "metadata": {},
   "outputs": [
    {
     "name": "stdout",
     "output_type": "stream",
     "text": [
      "La distancia en Kilometros es = 628949330\n",
      "la distancia en millas es = 390577533.93\n"
     ]
    }
   ],
   "source": [
    "# Crear variables para almacenar las dos distancias\n",
    "# ¡Asegúrate de quitar las comas!\n",
    "Tierra=149597870\n",
    "Jupiter=778547200\n",
    "Distancia= Jupiter -Tierra\n",
    "print(\"La distancia en Kilometros es =\",Distancia)\n",
    "Millas=Distancia*0.621\n",
    "print(\"la distancia en millas es =\",Millas)"
   ]
  },
  {
   "cell_type": "markdown",
   "metadata": {},
   "source": [
    "Ejercicio 2 "
   ]
  },
  {
   "cell_type": "code",
   "execution_count": 8,
   "metadata": {},
   "outputs": [
    {
     "name": "stdout",
     "output_type": "stream",
     "text": [
      "La distancia en Kilometros es = 50300000\n",
      "la distancia en millas es = 31236300.0\n"
     ]
    }
   ],
   "source": [
    "# Almacenar las entradas del usuario\n",
    "#Pista: variable = input(\"¿Cuál es tu nombre?\")\n",
    "Planeta1= input(\"¿Que planta eres?\")\n",
    "Planeta2= input(\"¿Que planeta eres?\")\n",
    "# Convierte las cadenas de ambos planetas a números enteros\n",
    "Planeta1=int(Planeta1)\n",
    "Planeta2=int(Planeta2)\n",
    "# Realizar el cálculo y determinar el valor absoluto\n",
    "Distancia= Planeta2 - Planeta1\n",
    "print(\"La distancia en Kilometros es =\",Distancia)\n",
    "# Convertir de KM a Millas usando abs\n",
    "Millas=Distancia*0.621\n",
    "print(\"la distancia en millas es =\",abs(Millas))\n"
   ]
  }
 ],
 "metadata": {
  "interpreter": {
   "hash": "b5e0a449711653d64fed037386767a395f6f540762f9e60ad0e5a418277d34b6"
  },
  "kernelspec": {
   "display_name": "Python 3.10.2 64-bit",
   "language": "python",
   "name": "python3"
  },
  "language_info": {
   "codemirror_mode": {
    "name": "ipython",
    "version": 3
   },
   "file_extension": ".py",
   "mimetype": "text/x-python",
   "name": "python",
   "nbconvert_exporter": "python",
   "pygments_lexer": "ipython3",
   "version": "3.10.2"
  },
  "orig_nbformat": 4
 },
 "nbformat": 4,
 "nbformat_minor": 2
}
