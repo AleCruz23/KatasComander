{
 "cells": [
  {
   "cell_type": "markdown",
   "metadata": {},
   "source": [
    "Ejercicio - Escribir declaraciones if, else, y elif"
   ]
  },
  {
   "cell_type": "code",
   "execution_count": 1,
   "metadata": {},
   "outputs": [
    {
     "name": "stdout",
     "output_type": "stream",
     "text": [
      "¡Alerta! ¡Un asteroide se acerca a velocidades peligrosas!\n"
     ]
    }
   ],
   "source": [
    "# Añadir el código necesario para crear una variable que guarde la velocidad del asteroide.\n",
    "# Escribe una expresión de prueba para calcular si necesita una advertencia.\n",
    "# Agregue las instrucciones que se ejecutarán si la expresión de prueba es \n",
    "Asteroide=49\n",
    "if Asteroide>25:\n",
    "    print('¡Alerta! ¡Se acerca un asteroide! ¡Evacuen a las zonas seguras!')\n",
    "else:\n",
    "    print('¡Sigue con tu día!')\n"
   ]
  },
  {
   "cell_type": "markdown",
   "metadata": {},
   "source": [
    "#Problema número dos"
   ]
  },
  {
   "cell_type": "code",
   "execution_count": 7,
   "metadata": {},
   "outputs": [
    {
     "name": "stdout",
     "output_type": "stream",
     "text": [
      "¡Todo esta bien!\n"
     ]
    }
   ],
   "source": [
    "# Agrega el código para crear una variable para un asteroide que viaja a 19 km/s\n",
    "# Escribe varias expresiones de prueba para determinar si puedes ver el rayo de luz desde la tierra\n",
    "# Agrega las instrucciones que se ejecutarán si las expresiones de prueba s\n",
    "Asteroide = 19\n",
    "if Asteroide > 20:\n",
    "    print('¡Alerta! ¡Se acerca un asteroide! ¡Evacuen a las zonas seguras!')\n",
    "elif Asteroide == 20:\n",
    "    print('¡Disfruta de las estrellas fugases!¡Pide un deseo!')\n",
    "else:\n",
    "    print('¡Todo esta bien!')"
   ]
  },
  {
   "cell_type": "markdown",
   "metadata": {},
   "source": [
    "Ejercicio: Uso de operadores and y or"
   ]
  },
  {
   "cell_type": "code",
   "execution_count": 11,
   "metadata": {},
   "outputs": [
    {
     "name": "stdout",
     "output_type": "stream",
     "text": [
      "¡Disfruta de las estrellas fugases!¡Pide un deseo!!\n"
     ]
    }
   ],
   "source": [
    "# Agrega el código para crear nuevas variables para la velocidad y el tamaño del asteroide\n",
    "# Para probar el código, prueba con varias velocidades y tamaños\n",
    "# Escribe varias expresiones de prueba o combinaciones de expresiones de prueba para determinar qué mensaje se debe enviar a Tierra.\n",
    "\n",
    "VelAsteroide = 25\n",
    "TamñoAsteroide = 40\n",
    "if VelAsteroide > 25 and TamñoAsteroide > 25 and TamñoAsteroide<1000:\n",
    "    print('¡Alerta! ¡Se acerca un asteroide! ¡Evacuen a las zonas seguras!')\n",
    "elif VelAsteroide >= 20:\n",
    "    print('¡Disfruta de las estrellas fugases!¡Pide un deseo!!')\n",
    "elif TamñoAsteroide < 25:\n",
    "    print('¡Todo esta bien!')\n",
    "else:\n",
    "    print('¡Todo esta bien!')"
   ]
  }
 ],
 "metadata": {
  "interpreter": {
   "hash": "b5e0a449711653d64fed037386767a395f6f540762f9e60ad0e5a418277d34b6"
  },
  "kernelspec": {
   "display_name": "Python 3.10.2 64-bit",
   "language": "python",
   "name": "python3"
  },
  "language_info": {
   "codemirror_mode": {
    "name": "ipython",
    "version": 3
   },
   "file_extension": ".py",
   "mimetype": "text/x-python",
   "name": "python",
   "nbconvert_exporter": "python",
   "pygments_lexer": "ipython3",
   "version": "3.10.2"
  },
  "orig_nbformat": 4
 },
 "nbformat": 4,
 "nbformat_minor": 2
}
