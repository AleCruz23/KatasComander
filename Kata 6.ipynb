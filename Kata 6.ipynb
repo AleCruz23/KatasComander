{
 "cells": [
  {
   "cell_type": "code",
   "execution_count": null,
   "metadata": {},
   "outputs": [],
   "source": []
  },
  {
   "cell_type": "markdown",
   "metadata": {},
   "source": [
    "Ejericicio 1"
   ]
  },
  {
   "cell_type": "code",
   "execution_count": 5,
   "metadata": {},
   "outputs": [
    {
     "name": "stdout",
     "output_type": "stream",
     "text": [
      "Planeta 1 es Mercurio\n",
      "Planeta 2 es Venus\n",
      "Planeta 3 es Tierra\n",
      "Planeta 4 es Marte\n",
      "Planeta 5 es Jupiter\n",
      "Planeta 6 es Saturno\n",
      "Planeta 7 es Urano\n",
      "Planeta 8 es Neptuno\n",
      "Planeta 9 es Pluton\n",
      "el numero de planetas en el sietema solar es 9\n"
     ]
    }
   ],
   "source": [
    "# Creamos la lista planets y la mostramos\n",
    "# Agregamos a plutón y mostramos el último elemento\n",
    "Planetas=[\"Mercurio\", \"Venus\", \"Tierra\", \"Marte\", \"Jupiter\", \"Saturno\", \"Urano\", \"Neptuno\", \"Pluton\"]\n",
    "print('Planeta 1 es', Planetas[0])\n",
    "print('Planeta 2 es', Planetas[1])\n",
    "print('Planeta 3 es', Planetas[2])\n",
    "print('Planeta 4 es', Planetas[3])\n",
    "print('Planeta 5 es', Planetas[4])\n",
    "print('Planeta 6 es', Planetas[5])\n",
    "print('Planeta 7 es', Planetas[6])\n",
    "print('Planeta 8 es', Planetas[7])\n",
    "print('Planeta 9 es', Planetas[8])\n",
    "Numero_de_planetas= len(Planetas)\n",
    "print(\"el numero de planetas en el sietema solar es\", Numero_de_planetas)"
   ]
  },
  {
   "cell_type": "code",
   "execution_count": 15,
   "metadata": {},
   "outputs": [
    {
     "ename": "ValueError",
     "evalue": "substring not found",
     "output_type": "error",
     "traceback": [
      "\u001b[1;31m---------------------------------------------------------------------------\u001b[0m",
      "\u001b[1;31mValueError\u001b[0m                                Traceback (most recent call last)",
      "\u001b[1;32mUntitled-1.ipynb Cell 4'\u001b[0m in \u001b[0;36m<module>\u001b[1;34m\u001b[0m\n\u001b[0;32m      <a href='vscode-notebook-cell:Untitled-1.ipynb?jupyter-notebook#ch0000003untitled?line=1'>2</a>\u001b[0m planetacer\u001b[39m=\u001b[39m \u001b[39minput\u001b[39m(\u001b[39m\"\u001b[39m\u001b[39mColoque el nombre del planeta\u001b[39m\u001b[39m\"\u001b[39m)\n\u001b[0;32m      <a href='vscode-notebook-cell:Untitled-1.ipynb?jupyter-notebook#ch0000003untitled?line=2'>3</a>\u001b[0m \u001b[39m# Busca el planeta en la lista\u001b[39;00m\n\u001b[1;32m----> <a href='vscode-notebook-cell:Untitled-1.ipynb?jupyter-notebook#ch0000003untitled?line=3'>4</a>\u001b[0m Planeta_index\u001b[39m=\u001b[39m Planetas\u001b[39m.\u001b[39;49mindex(planetacer)\n\u001b[0;32m      <a href='vscode-notebook-cell:Untitled-1.ipynb?jupyter-notebook#ch0000003untitled?line=4'>5</a>\u001b[0m \u001b[39m# Muestra los planetas más cercanos al sol\u001b[39;00m\n\u001b[0;32m      <a href='vscode-notebook-cell:Untitled-1.ipynb?jupyter-notebook#ch0000003untitled?line=5'>6</a>\u001b[0m \u001b[39mprint\u001b[39m(\u001b[39m'\u001b[39m\u001b[39mQue planeta es el mas cercano \u001b[39m\u001b[39m'\u001b[39m \u001b[39m+\u001b[39mplanetacer)\n",
      "\u001b[1;31mValueError\u001b[0m: substring not found"
     ]
    }
   ],
   "source": [
    "#Ejercicio 2: Trabajando con datos de una lista\n",
    "planetacer= input(\"Coloque el nombre del planeta\")\n",
    "# Busca el planeta en la lista\n",
    "Planeta_index= Planetas.index(planetacer) #error...\n",
    "# Muestra los planetas más cercanos al sol\n",
    "print('Que planeta es el mas cercano ' +planetacer)\n",
    "print(Planetas[0:Planeta_index])\n",
    "print('Que planeta es el mas cercano ' +planetacer)\n",
    "print(Planetas[Planeta_index + 1:])"
   ]
  },
  {
   "cell_type": "code",
   "execution_count": 14,
   "metadata": {},
   "outputs": [
    {
     "name": "stdout",
     "output_type": "stream",
     "text": [
      "Here are the planets closer than Jupiter\n",
      "['Mercury', 'Venus', 'Earth', 'Mars']\n",
      "Here are the planets further than Jupiter\n",
      "['Saturn', 'Neptune']\n"
     ]
    }
   ],
   "source": [
    "# Lista de planetas (Solucion de la Sherpa)\n",
    "\n",
    "planets = ['Mercury', 'Venus', 'Earth', 'Mars', 'Jupiter', 'Saturn', 'Neptune']\n",
    "# Solicitamos el nombre de un planeta *Pista:  input()*\n",
    "user_planet = input('Please enter the name of the planet (with a capital letter to start)')\n",
    "# Busca el planeta en la lista\n",
    "\n",
    "planet_index = planets.index(user_planet)\n",
    "# Muestra los planetas más cercanos al sol\n",
    "\n",
    "print('Here are the planets closer than ' + user_planet)\n",
    "print(planets[0:planet_index])\n",
    "# Muestra los planetas más lejanos al sol\n",
    "\n",
    "print('Here are the planets further than ' + user_planet)\n",
    "print(planets[planet_index + 1:])"
   ]
  }
 ],
 "metadata": {
  "interpreter": {
   "hash": "b5e0a449711653d64fed037386767a395f6f540762f9e60ad0e5a418277d34b6"
  },
  "kernelspec": {
   "display_name": "Python 3.10.2 64-bit",
   "language": "python",
   "name": "python3"
  },
  "language_info": {
   "codemirror_mode": {
    "name": "ipython",
    "version": 3
   },
   "file_extension": ".py",
   "mimetype": "text/x-python",
   "name": "python",
   "nbconvert_exporter": "python",
   "pygments_lexer": "ipython3",
   "version": "3.10.2"
  },
  "orig_nbformat": 4
 },
 "nbformat": 4,
 "nbformat_minor": 2
}
